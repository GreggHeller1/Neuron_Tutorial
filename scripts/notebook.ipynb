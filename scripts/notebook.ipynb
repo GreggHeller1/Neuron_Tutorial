{
 "cells": [
  {
   "cell_type": "code",
   "execution_count": 1,
   "id": "71ee021b",
   "metadata": {},
   "outputs": [],
   "source": [
    "#settings\n",
    "%load_ext autoreload\n",
    "%autoreload 2"
   ]
  },
  {
   "cell_type": "code",
   "execution_count": 2,
   "id": "4e02e926",
   "metadata": {},
   "outputs": [],
   "source": [
    "#installs (for colab only)\n"
   ]
  },
  {
   "cell_type": "code",
   "execution_count": 3,
   "id": "5e9731ca",
   "metadata": {},
   "outputs": [],
   "source": [
    "#local imports\n",
    "from src import data_io as io\n",
    "from src import plotting\n",
    "from src import computation as comp\n"
   ]
  },
  {
   "cell_type": "code",
   "execution_count": 8,
   "id": "db51ef2e",
   "metadata": {},
   "outputs": [],
   "source": [
    "#imports\n",
    "import xarray as xr\n",
    "import pandas as pd\n",
    "from matplotlib import pyplot as plt\n",
    "import os"
   ]
  },
  {
   "cell_type": "code",
   "execution_count": 9,
   "id": "a06b6e4a",
   "metadata": {},
   "outputs": [
    {
     "name": "stdout",
     "output_type": "stream",
     "text": [
      "demo_data/test.txt\n",
      "/Users/greggoryheller/Documents/code/Neuron_Tutorial/scripts\n"
     ]
    },
    {
     "data": {
      "text/plain": [
       "True"
      ]
     },
     "execution_count": 9,
     "metadata": {},
     "output_type": "execute_result"
    }
   ],
   "source": [
    "#define paths\n",
    "test_path = os.path.join('demo_data', 'test.txt')\n",
    "print(test_path)\n",
    "print(os.getcwd())\n",
    "os.path.exists(test_path)"
   ]
  },
  {
   "cell_type": "code",
   "execution_count": 18,
   "id": "b3586a50",
   "metadata": {},
   "outputs": [
    {
     "name": "stdout",
     "output_type": "stream",
     "text": [
      "Reading file at demo_data/test.txt\n",
      "Testing whether we can read the contents of a text file in colab\n",
      "\n",
      "maybe we need another line?\n"
     ]
    }
   ],
   "source": [
    "#data inputs\n",
    "io.readfile(test_path)\n",
    "\n"
   ]
  },
  {
   "cell_type": "code",
   "execution_count": null,
   "id": "82a5927b",
   "metadata": {},
   "outputs": [],
   "source": [
    "#data manipulation\n"
   ]
  },
  {
   "cell_type": "code",
   "execution_count": 7,
   "id": "f700a7f6",
   "metadata": {},
   "outputs": [],
   "source": [
    "#plots\n"
   ]
  },
  {
   "cell_type": "code",
   "execution_count": null,
   "id": "8dd23ba7",
   "metadata": {},
   "outputs": [],
   "source": [
    "#data output\n"
   ]
  }
 ],
 "metadata": {
  "jupytext": {
   "formats": "ipynb,py,md"
  },
  "kernelspec": {
   "display_name": "Python 3 (ipykernel)",
   "language": "python",
   "name": "python3"
  },
  "language_info": {
   "codemirror_mode": {
    "name": "ipython",
    "version": 3
   },
   "file_extension": ".py",
   "mimetype": "text/x-python",
   "name": "python",
   "nbconvert_exporter": "python",
   "pygments_lexer": "ipython3",
   "version": "3.9.12"
  }
 },
 "nbformat": 4,
 "nbformat_minor": 5
}
