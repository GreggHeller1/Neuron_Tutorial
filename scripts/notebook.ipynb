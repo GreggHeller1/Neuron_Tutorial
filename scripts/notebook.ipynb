{
  "cells": [
    {
      "cell_type": "markdown",
      "metadata": {
        "id": "view-in-github",
        "colab_type": "text"
      },
      "source": [
        "<a href=\"https://colab.research.google.com/github/GreggHeller1/Neuron_Tutorial/blob/main/scripts/notebook.ipynb\" target=\"_parent\"><img src=\"https://colab.research.google.com/assets/colab-badge.svg\" alt=\"Open In Colab\"/></a>"
      ]
    },
    {
      "cell_type": "code",
      "execution_count": 1,
      "id": "71ee021b",
      "metadata": {
        "id": "71ee021b"
      },
      "outputs": [],
      "source": [
        "#settings\n",
        "%load_ext autoreload\n",
        "%autoreload 2"
      ]
    },
    {
      "cell_type": "code",
      "execution_count": 2,
      "id": "4e02e926",
      "metadata": {
        "colab": {
          "base_uri": "https://localhost:8080/"
        },
        "id": "4e02e926",
        "outputId": "84475a29-508b-4d96-adf5-e85665e994d2"
      },
      "outputs": [
        {
          "output_type": "stream",
          "name": "stdout",
          "text": [
            "Cloning into 'Neuron_Tutorial'...\n",
            "remote: Enumerating objects: 64, done.\u001b[K\n",
            "remote: Counting objects: 100% (64/64), done.\u001b[K\n",
            "remote: Compressing objects: 100% (47/47), done.\u001b[K\n",
            "remote: Total 64 (delta 23), reused 43 (delta 12), pack-reused 0\u001b[K\n",
            "Unpacking objects: 100% (64/64), done.\n"
          ]
        }
      ],
      "source": [
        "#installs (for colab only)\n",
        "! git clone https://github.com/GreggHeller1/Neuron_Tutorial.git\n"
      ]
    },
    {
      "cell_type": "code",
      "source": [
        "%cd /content/Neuron_Tutorial\n"
      ],
      "metadata": {
        "colab": {
          "base_uri": "https://localhost:8080/"
        },
        "id": "MrlQVA_UV8Kh",
        "outputId": "df7568a1-faa0-4833-e2eb-82f63c4ac374"
      },
      "id": "MrlQVA_UV8Kh",
      "execution_count": 6,
      "outputs": [
        {
          "output_type": "stream",
          "name": "stdout",
          "text": [
            "/content/Neuron_Tutorial\n"
          ]
        }
      ]
    },
    {
      "cell_type": "code",
      "execution_count": 7,
      "id": "5e9731ca",
      "metadata": {
        "id": "5e9731ca"
      },
      "outputs": [],
      "source": [
        "#local imports\n",
        "from src import data_io as io\n",
        "from src import plotting\n",
        "from src import computation as comp\n"
      ]
    },
    {
      "cell_type": "code",
      "source": [
        "%cd /content/Neuron_Tutorial/scripts\n"
      ],
      "metadata": {
        "id": "RESmRKnAYuFc",
        "outputId": "8b12d1e1-fe1b-4cd0-f423-b10021a87dbb",
        "colab": {
          "base_uri": "https://localhost:8080/"
        }
      },
      "id": "RESmRKnAYuFc",
      "execution_count": 8,
      "outputs": [
        {
          "output_type": "stream",
          "name": "stdout",
          "text": [
            "/content/Neuron_Tutorial/scripts\n"
          ]
        }
      ]
    },
    {
      "cell_type": "code",
      "execution_count": 9,
      "id": "db51ef2e",
      "metadata": {
        "id": "db51ef2e"
      },
      "outputs": [],
      "source": [
        "#imports\n",
        "import xarray as xr\n",
        "import pandas as pd\n",
        "from matplotlib import pyplot as plt\n",
        "import os"
      ]
    },
    {
      "cell_type": "code",
      "execution_count": 10,
      "id": "a06b6e4a",
      "metadata": {
        "colab": {
          "base_uri": "https://localhost:8080/"
        },
        "id": "a06b6e4a",
        "outputId": "989c69e2-c8c4-43e0-9ba6-7a36f66be4c3"
      },
      "outputs": [
        {
          "output_type": "stream",
          "name": "stdout",
          "text": [
            "demo_data/test.txt\n",
            "/content/Neuron_Tutorial/scripts\n"
          ]
        },
        {
          "output_type": "execute_result",
          "data": {
            "text/plain": [
              "True"
            ]
          },
          "metadata": {},
          "execution_count": 10
        }
      ],
      "source": [
        "#define paths\n",
        "test_path = os.path.join('demo_data', 'test.txt')\n",
        "print(test_path)\n",
        "print(os.getcwd())\n",
        "os.path.exists(test_path)"
      ]
    },
    {
      "cell_type": "code",
      "execution_count": 11,
      "id": "b3586a50",
      "metadata": {
        "colab": {
          "base_uri": "https://localhost:8080/"
        },
        "id": "b3586a50",
        "outputId": "56f159c6-3dbc-4b37-d217-083fb5d2e792"
      },
      "outputs": [
        {
          "output_type": "stream",
          "name": "stdout",
          "text": [
            "Reading file at demo_data/test.txt\n",
            "Testing whether we can read the contents of a text file in colab\n",
            "\n",
            "maybe we need another line?\n"
          ]
        }
      ],
      "source": [
        "#data inputs\n",
        "io.readfile(test_path)\n",
        "\n"
      ]
    },
    {
      "cell_type": "code",
      "execution_count": null,
      "id": "82a5927b",
      "metadata": {
        "id": "82a5927b"
      },
      "outputs": [],
      "source": [
        "#data manipulation\n"
      ]
    },
    {
      "cell_type": "code",
      "execution_count": null,
      "id": "f700a7f6",
      "metadata": {
        "id": "f700a7f6"
      },
      "outputs": [],
      "source": [
        "#plots\n"
      ]
    },
    {
      "cell_type": "code",
      "execution_count": null,
      "id": "8dd23ba7",
      "metadata": {
        "id": "8dd23ba7"
      },
      "outputs": [],
      "source": [
        "#data output\n"
      ]
    }
  ],
  "metadata": {
    "jupytext": {
      "formats": "ipynb,py,md"
    },
    "kernelspec": {
      "display_name": "Python 3 (ipykernel)",
      "language": "python",
      "name": "python3"
    },
    "language_info": {
      "codemirror_mode": {
        "name": "ipython",
        "version": 3
      },
      "file_extension": ".py",
      "mimetype": "text/x-python",
      "name": "python",
      "nbconvert_exporter": "python",
      "pygments_lexer": "ipython3",
      "version": "3.9.12"
    },
    "colab": {
      "name": "notebook.ipynb",
      "provenance": [],
      "include_colab_link": true
    }
  },
  "nbformat": 4,
  "nbformat_minor": 5
}