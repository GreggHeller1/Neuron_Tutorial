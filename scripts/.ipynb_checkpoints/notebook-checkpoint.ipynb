{
 "cells": [
  {
   "cell_type": "code",
   "execution_count": 1,
   "id": "71ee021b",
   "metadata": {},
   "outputs": [],
   "source": [
    "#settings\n",
    "%load_ext autoreload\n",
    "%autoreload 2"
   ]
  },
  {
   "cell_type": "code",
   "execution_count": null,
   "id": "79d57109",
   "metadata": {},
   "outputs": [],
   "source": [
    "#installs (for colab only)\n"
   ]
  },
  {
   "cell_type": "code",
   "execution_count": 2,
   "id": "5e9731ca",
   "metadata": {},
   "outputs": [],
   "source": [
    "#local imports\n",
    "from src import data_io as io\n",
    "from src import plotting\n",
    "from src import computation as comp\n"
   ]
  },
  {
   "cell_type": "code",
   "execution_count": 5,
   "id": "965b50cc",
   "metadata": {},
   "outputs": [],
   "source": [
    "#imports\n",
    "import xarray as xr\n",
    "import pandas as pd\n",
    "from matplotlib import pyplot as plt"
   ]
  },
  {
   "cell_type": "code",
   "execution_count": 6,
   "id": "4366f62b",
   "metadata": {},
   "outputs": [],
   "source": [
    "#data inputs\n"
   ]
  },
  {
   "cell_type": "code",
   "execution_count": null,
   "id": "8a2f8013",
   "metadata": {},
   "outputs": [],
   "source": [
    "#data manipulation\n"
   ]
  },
  {
   "cell_type": "code",
   "execution_count": 7,
   "id": "4847c7e9",
   "metadata": {},
   "outputs": [],
   "source": [
    "#plots\n"
   ]
  },
  {
   "cell_type": "code",
   "execution_count": null,
   "id": "1af0be57",
   "metadata": {},
   "outputs": [],
   "source": [
    "#data output\n"
   ]
  }
 ],
 "metadata": {
  "jupytext": {
   "formats": "ipynb,py,md"
  },
  "kernelspec": {
   "display_name": "Python 3 (ipykernel)",
   "language": "python",
   "name": "python3"
  },
  "language_info": {
   "codemirror_mode": {
    "name": "ipython",
    "version": 3
   },
   "file_extension": ".py",
   "mimetype": "text/x-python",
   "name": "python",
   "nbconvert_exporter": "python",
   "pygments_lexer": "ipython3",
   "version": "3.9.12"
  }
 },
 "nbformat": 4,
 "nbformat_minor": 5
}
